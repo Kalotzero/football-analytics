{
 "cells": [
  {
   "cell_type": "code",
   "execution_count": null,
   "id": "d3cca5a6",
   "metadata": {},
   "outputs": [],
   "source": [
    "import pandas as pd\n",
    "from scipy.stats import poisson\n",
    "\n",
    "\n",
    "#uploading the data from csv into a DataFrame\n",
    "data3=pd.read_csv('C:\\\\Users\\/Sakis\\\\Desktop\\\\ΜΑΠ\\\\Μηχανική Μάθηση και Τεχνητή Νοημοσύνη\\\\εργασια\\\\data3.csv',delimiter=',')\n",
    "data2=pd.read_csv('C:\\\\Users\\/Sakis\\\\Desktop\\\\ΜΑΠ\\\\Μηχανική Μάθηση και Τεχνητή Νοημοσύνη\\\\εργασια\\\\data2.csv',delimiter=',')\n",
    "data1=pd.read_csv('C:\\\\Users\\/Sakis\\\\Desktop\\\\ΜΑΠ\\\\Μηχανική Μάθηση και Τεχνητή Νοημοσύνη\\\\εργασια\\\\data1.csv',delimiter=',')\n",
    "\n",
    "\n",
    "data=pd.concat([data1, data2,data3])\n",
    "data\n",
    "#Keeping only the usefull columns for the analysis\n",
    "data=data[['HomeTeam','AwayTeam','FTHG','FTAG']]\n",
    "#changing the names of the columns in order to be more understandable for HomeGoals and AwayGoals\n",
    "data.rename(columns={'FTHG':'HomeGoals','FTAG':'AwayGoals'} ,inplace=True)\n",
    "\n",
    "#separating the results for each team\n",
    "df_Home=data[['HomeTeam','HomeGoals','AwayGoals']]\n",
    "df_Away=data[['AwayTeam','HomeGoals','AwayGoals']]\n",
    "\n",
    "\n",
    "#renaming the HomeGoals and AwayGoals in GoalsScored and GoalsConceded for each Team depending on if they are Home or Away\n",
    "df_Home.rename(columns={'HomeTeam':'Team','HomeGoals':'GoalsScored','AwayGoals':'GoalsConceded'},inplace=True)\n",
    "df_Away.rename(columns={'AwayTeam':'Team','HomeGoals':'GoalsConceded','AwayGoals':'GoalsScored'},inplace=True)\n",
    "\n",
    "\n",
    "#Estimating the mean of GoalsScored and GoalsConceded for each team for thw whole season\n",
    "avg_goals=pd.concat([df_Home,df_Away],ignore_index=True).groupby('Team').mean()\n",
    "avg_goals\n"
   ]
  }
 ],
 "metadata": {
  "kernelspec": {
   "display_name": "Python 3",
   "language": "python",
   "name": "python3"
  },
  "language_info": {
   "codemirror_mode": {
    "name": "ipython",
    "version": 3
   },
   "file_extension": ".py",
   "mimetype": "text/x-python",
   "name": "python",
   "nbconvert_exporter": "python",
   "pygments_lexer": "ipython3",
   "version": "3.8.8"
  }
 },
 "nbformat": 4,
 "nbformat_minor": 5
}
