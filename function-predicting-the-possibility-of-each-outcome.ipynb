{
 "cells": [
  {
   "cell_type": "code",
   "execution_count": null,
   "id": "04e15618",
   "metadata": {},
   "outputs": [],
   "source": [
    "#creating a function in order to predict the probabilities of win for each match\n",
    "def predict(home,away):\n",
    "    if home in avg_goals.index and away in avg_goals.index:\n",
    "        #calculating the strength of each team multiplying the home's goals scored * away's goals conceded\n",
    "        lamda_home = avg_goals.at[home,'GoalsScored'] * avg_goals.at[away,'GoalsConceded']\n",
    "        lamda_away = avg_goals.at[away,'GoalsScored'] * avg_goals.at[home,'GoalsConceded']\n",
    "        prob_home, prob_away, prob_draw = 0, 0, 0\n",
    "        for x in range(0,6):#number of home_team goals\n",
    "            for y in range(0,6):#number of away_team goals\n",
    "                #using poisson distribution to find the possibilities of each outcome \n",
    "                p = poisson.pmf(x, lamda_home) * poisson.pmf(y, lamda_away)\n",
    "                if x == y: # calculating the sum of possibilities for each outcome\n",
    "                    prob_draw += p \n",
    "                elif x > y:\n",
    "                    prob_home += p\n",
    "                else:\n",
    "                    prob_away += p\n",
    "                    \n",
    "        return(prob_home, prob_draw, prob_away)\n",
    "    else:\n",
    "        return('The team doesnt exists in this data')\n",
    "                    \n",
    "        "
   ]
  }
 ],
 "metadata": {
  "kernelspec": {
   "display_name": "Python 3",
   "language": "python",
   "name": "python3"
  },
  "language_info": {
   "codemirror_mode": {
    "name": "ipython",
    "version": 3
   },
   "file_extension": ".py",
   "mimetype": "text/x-python",
   "name": "python",
   "nbconvert_exporter": "python",
   "pygments_lexer": "ipython3",
   "version": "3.8.8"
  }
 },
 "nbformat": 4,
 "nbformat_minor": 5
}
